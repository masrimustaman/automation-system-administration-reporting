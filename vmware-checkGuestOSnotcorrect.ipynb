{
 "cells": [
  {
   "cell_type": "code",
   "execution_count": 1,
   "metadata": {},
   "outputs": [],
   "source": [
    "import os\n",
    "import pandas as pd\n",
    "import glob\n",
    "import datetime\n",
    "\n",
    "# getting list of files for vinfo and vnetwork \n",
    "path = os.getcwd()\n",
    "vinfo_files = glob.glob(path + \"/*vinfo.csv\")"
   ]
  },
  {
   "cell_type": "code",
   "execution_count": 2,
   "metadata": {},
   "outputs": [
    {
     "name": "stdout",
     "output_type": "stream",
     "text": [
      "check point : individual vinfo shape (306, 6)\n",
      "check point : individual vinfo shape (434, 6)\n",
      "check point : individual vinfo shape (190, 6)\n"
     ]
    }
   ],
   "source": [
    "li_vinfo = []\n",
    "\n",
    "for filename in vinfo_files:\n",
    "    tempvinfo = pd.read_csv(filename, index_col=None, header=0, encoding = \"ISO-8859-1\", usecols= ['VM', 'Powerstate', 'DNS Name','OS according to the VMware Tools', 'OS according to the configuration file', 'VI SDK Server'])\n",
    "    print(\"check point : individual vinfo shape \" + str(tempvinfo.shape))\n",
    "    li_vinfo.append(tempvinfo)\n",
    "\n",
    "df_vinfo = pd.concat(li_vinfo, axis=0, ignore_index=True, sort=False)\n"
   ]
  },
  {
   "cell_type": "code",
   "execution_count": 3,
   "metadata": {},
   "outputs": [],
   "source": [
    "df_vinfo = df_vinfo[df_vinfo['Powerstate'] == 'poweredOn']"
   ]
  },
  {
   "cell_type": "code",
   "execution_count": 7,
   "metadata": {},
   "outputs": [],
   "source": [
    "df_guestnotcorrect = df_vinfo[df_vinfo['OS according to the configuration file'] != df_vinfo['OS according to the VMware Tools']]"
   ]
  },
  {
   "cell_type": "code",
   "execution_count": 9,
   "metadata": {},
   "outputs": [],
   "source": [
    "# Create a Pandas Excel writer using XlsxWriter as the engine.\n",
    "outputfile = datetime.datetime.now().strftime('%Y%m%d') + '-VM-GoestOSNotCorrect.xlsx'\n",
    "writer = pd.ExcelWriter(outputfile, engine='xlsxwriter')\n",
    "\n",
    "# Write each dataframe to a different worksheet.\n",
    "df_guestnotcorrect.to_excel(writer, sheet_name='VM-GoestOSNotCorrect', index=False)\n",
    "\n",
    "# Close the Pandas Excel writer and output the Excel file.\n",
    "writer.save()"
   ]
  },
  {
   "cell_type": "code",
   "execution_count": null,
   "metadata": {},
   "outputs": [],
   "source": []
  }
 ],
 "metadata": {
  "kernelspec": {
   "display_name": "Python 3",
   "language": "python",
   "name": "python3"
  },
  "language_info": {
   "codemirror_mode": {
    "name": "ipython",
    "version": 3
   },
   "file_extension": ".py",
   "mimetype": "text/x-python",
   "name": "python",
   "nbconvert_exporter": "python",
   "pygments_lexer": "ipython3",
   "version": "3.7.4"
  }
 },
 "nbformat": 4,
 "nbformat_minor": 2
}
