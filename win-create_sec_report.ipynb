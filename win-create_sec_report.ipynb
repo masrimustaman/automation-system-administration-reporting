{
 "nbformat": 4,
 "nbformat_minor": 2,
 "metadata": {
  "language_info": {
   "name": "python",
   "codemirror_mode": {
    "name": "ipython",
    "version": 3
   },
   "version": "3.7.4"
  },
  "orig_nbformat": 2,
  "file_extension": ".py",
  "mimetype": "text/x-python",
  "name": "python",
  "npconvert_exporter": "python",
  "pygments_lexer": "ipython3",
  "version": 3
 },
 "cells": [
  {
   "cell_type": "code",
   "metadata": {},
   "outputs": [],
   "source": [
    "import pandas as pd\n",
    "data = pd.read_csv('sec.csv', header=0)"
   ]
  },
  {
   "cell_type": "code",
   "metadata": {},
   "outputs": [],
   "source": [
    "accname = []                             # Declare an empty list named accname.\n",
    "for row in data['Message']:\n",
    "    myline = [line for line in row.split('\\n') if \"Account Name:\" in line]\n",
    "    accname.append(myline)           # add its contents to accname.\n",
    "\n",
    "accnamelist = pd.accnamelistries(accname)\n",
    "data['Account Name'] = accnamelist.values"
   ]
  },
  {
   "cell_type": "code",
   "metadata": {},
   "outputs": [],
   "source": [
    "data['Account Name'] = data['Account Name'].str[0]\n",
    "data['Account Name'] = data['Account Name'].str.replace(r\"[^a-zA-Z\\d\\_]+\", \"\")\n",
    "data['Account Name'] = data['Account Name'].str.replace(\"AccountName\", \"\")"
   ]
  },
  {
   "cell_type": "code",
   "metadata": {},
   "outputs": [],
   "source": [
    "sharepath = []                             # Declare an empty list named mylines.\n",
    "for row in data['Message']:\n",
    "    myline = [line for line in row.split('\\n') if \"Share Name:\" in line]\n",
    "    sharepath.append(myline)           # add its contents to mylines.\n",
    "\n",
    "sharepathlist = pd.Series(sharepath)\n",
    "data['Share Path'] = sharepathlist.values"
   ]
  },
  {
   "cell_type": "code",
   "metadata": {},
   "outputs": [],
   "source": [
    "data['Share Path'] = data['Share Path'].str[0]\n",
    "data['Share Path'] = data['Share Path'].str.replace(r\"[^a-zA-Z\\d\\:\\\\]+\", \"\")\n",
    "data['Share Path'] = data['Share Path'].str.replace(\"ShareName:\\\", \"\")"
   ]
  },
  {
   "cell_type": "code",
   "execution_count": null,
   "metadata": {},
   "outputs": [],
   "source": [
    "export_excel = data.to_excel ('securitylogreport.xlsx', index = None, header=True) #Don't forget to add '.xlsx' at the end of the path"
   ]
  }
 ]
}